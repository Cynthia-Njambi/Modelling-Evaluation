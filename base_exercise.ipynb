{
 "cells": [
  {
   "cell_type": "markdown",
   "metadata": {},
   "source": [
    "___\n",
    "<font color='red'> <p style=\"font-weight: bold;\">Master's Degree in Banking and Financial Regulation</p></font>\n",
    "\n",
    "<font color='red'> University of Navarra</font>\n",
    "___"
   ]
  },
  {
   "cell_type": "markdown",
   "metadata": {},
   "source": [
    "<h2>GOAL</h2>\n",
    "Develop a model to predict the Probability of Default (PD) of start-up companies with a supervised non-linear model. This kind of models allow risk managers and investors to make a statistically rational investment by only lending money to the start-ups most likely to succeed in the market by fulfilling all their debt obligations.\n",
    "\n",
    "<h2>The exercise</h2>\n",
    "\n",
    "- You are provided with historical dataset (historical_data.csv) containing start-up companies and their descriptive features. The database contains a column TARGET wich has the value 1 if the company has defaulted and 0 otherwise. The description of the columns is provided in the file 'Dataset Description.txt'\n",
    "\n",
    "- This notebook contains a simplistic code to create a PD non-linear model, namely it builds a toy 'model' which is non-optimized. You must improve the current code.\n",
    "\n",
    "<h2>Minimum standards required to pass the exercise</h2>\n",
    "\n",
    "- Provide a detailed description of the 10 most relevant variables at business level. Please, provide as well a proper substantiation (either from business intuition or using statistical tools) about the motivation of choosing those 10 variables. Discuss their business meaning.\n",
    "\n",
    "\n",
    "- Improve the current non-linear dummy model performance metric (AUC) on the Test dataset without introducing additional biases. You can do so by (the following options are not mandatory, they are just provided as a guideline) adding more variables to the model, and/or adding feature engineering methods, and/or optimizing the current algorithm hyperparameters, and/or using other Machine Learning algorithms. (Please keep in mind that when using a non-linear model, the introduction of Weight of Evidences is not necessary)\n",
    "\n",
    "\n",
    "- Please provide explainability for the model and discuss whether the results have business \"sense\" or not. You can do so by (the following options are not mandatory, they are just provided as a guideline) using shapley values or methods embeded in the algorithm you decide to use.\n",
    "\n",
    "\n",
    "- The delivery must be done with 2 files: A .ipynb and the same .ipynb file converted to .html (in your jupyter notebook: File -> Downloas as -> HTML (.html)). To provide explanations, use 'markdown' cells (like this one) as much as you need. The provided .pynb file must be functional, i.e. must be able to run in one go without errors."
   ]
  },
  {
   "cell_type": "markdown",
   "metadata": {},
   "source": [
    "# 1. Business Understanding\n",
    "\n",
    "In this project, we aim to develop a `Probability of Default (PD)` model for start-up companies using a non-linear supervised approach. Banks, risk managers, and investors can use such a model to decide whether or not to lend money to a given start-up by estimating the likelihood that it will default on its obligations.\n",
    "\n",
    "***Key objectives:***\n",
    "\n",
    "- Identify the top factors (features) that drive a start-up’s ability to meet debt obligations.\n",
    "- Build a robust, non-linear predictive model that achieves a higher AUC on the test set than the simplistic baseline model.\n",
    "- Ensure the model has business interpretability."
   ]
  },
  {
   "cell_type": "markdown",
   "metadata": {},
   "source": [
    "# The code\n",
    "\n",
    "Imports"
   ]
  },
  {
   "cell_type": "code",
   "execution_count": 1,
   "metadata": {
    "_cell_guid": "0d706811-b70c-aeab-a78b-3c7abd9978d3"
   },
   "outputs": [
    {
     "name": "stderr",
     "output_type": "stream",
     "text": [
      "C:\\Users\\joarnaur\\Anaconda3\\envs\\env_investment\\lib\\site-packages\\tqdm\\auto.py:22: TqdmWarning: IProgress not found. Please update jupyter and ipywidgets. See https://ipywidgets.readthedocs.io/en/stable/user_install.html\n",
      "  from .autonotebook import tqdm as notebook_tqdm\n"
     ]
    }
   ],
   "source": [
    "import pandas as pd\n",
    "import numpy as np\n",
    "import seaborn as sns\n",
    "import matplotlib\n",
    "import matplotlib.pyplot as plt\n",
    "#model libraries \n",
    "from sklearn.model_selection import train_test_split\n",
    "from sklearn.ensemble        import RandomForestClassifier\n",
    "from sklearn.metrics         import roc_auc_score, roc_curve\n",
    "#To install sklearn, type in a terminal (anaconda prompt) the following line: conda install -c anaconda scikit-learn\n",
    "import shap\n",
    "#To install shap, type in a terminal (anaconda prompt) the following line: conda install -c conda-forge shap"
   ]
  },
  {
   "cell_type": "markdown",
   "metadata": {},
   "source": [
    "Loading datasets"
   ]
  },
  {
   "cell_type": "code",
   "execution_count": 2,
   "metadata": {
    "_cell_guid": "603292c1-44b7-d72a-5468-e6782f311603"
   },
   "outputs": [],
   "source": [
    "df = pd.read_csv(\"historical_data.csv\")"
   ]
  },
  {
   "cell_type": "code",
   "execution_count": 3,
   "metadata": {
    "_cell_guid": "d646bb1b-56c4-9b45-d5d4-27095f61b1c0"
   },
   "outputs": [
    {
     "data": {
      "text/html": [
       "<div>\n",
       "<style scoped>\n",
       "    .dataframe tbody tr th:only-of-type {\n",
       "        vertical-align: middle;\n",
       "    }\n",
       "\n",
       "    .dataframe tbody tr th {\n",
       "        vertical-align: top;\n",
       "    }\n",
       "\n",
       "    .dataframe thead th {\n",
       "        text-align: right;\n",
       "    }\n",
       "</style>\n",
       "<table border=\"1\" class=\"dataframe\">\n",
       "  <thead>\n",
       "    <tr style=\"text-align: right;\">\n",
       "      <th></th>\n",
       "      <th>ID</th>\n",
       "      <th>X1</th>\n",
       "      <th>X2</th>\n",
       "      <th>X3</th>\n",
       "      <th>X4</th>\n",
       "      <th>X5</th>\n",
       "      <th>X6</th>\n",
       "      <th>X7</th>\n",
       "      <th>X8</th>\n",
       "      <th>X9</th>\n",
       "      <th>...</th>\n",
       "      <th>X56</th>\n",
       "      <th>X57</th>\n",
       "      <th>X58</th>\n",
       "      <th>X59</th>\n",
       "      <th>X60</th>\n",
       "      <th>X61</th>\n",
       "      <th>X62</th>\n",
       "      <th>X63</th>\n",
       "      <th>X64</th>\n",
       "      <th>TARGET</th>\n",
       "    </tr>\n",
       "  </thead>\n",
       "  <tbody>\n",
       "    <tr>\n",
       "      <th>0</th>\n",
       "      <td>A1</td>\n",
       "      <td>0.004513</td>\n",
       "      <td>0.59322</td>\n",
       "      <td>0.050671</td>\n",
       "      <td>1.08540</td>\n",
       "      <td>-233.820</td>\n",
       "      <td>0.00903</td>\n",
       "      <td>0.008017</td>\n",
       "      <td>0.62108</td>\n",
       "      <td>1.01810</td>\n",
       "      <td>...</td>\n",
       "      <td>0.017824</td>\n",
       "      <td>0.012250</td>\n",
       "      <td>0.98218</td>\n",
       "      <td>0.00000</td>\n",
       "      <td>1.4846</td>\n",
       "      <td>7.7253</td>\n",
       "      <td>275.850</td>\n",
       "      <td>1.3232</td>\n",
       "      <td>2.2043</td>\n",
       "      <td>0</td>\n",
       "    </tr>\n",
       "    <tr>\n",
       "      <th>1</th>\n",
       "      <td>A3</td>\n",
       "      <td>0.009384</td>\n",
       "      <td>0.21804</td>\n",
       "      <td>0.528450</td>\n",
       "      <td>3.42360</td>\n",
       "      <td>31.312</td>\n",
       "      <td>-0.21350</td>\n",
       "      <td>0.009530</td>\n",
       "      <td>3.49980</td>\n",
       "      <td>0.99865</td>\n",
       "      <td>...</td>\n",
       "      <td>-0.001349</td>\n",
       "      <td>0.012297</td>\n",
       "      <td>1.00130</td>\n",
       "      <td>0.00000</td>\n",
       "      <td>7.2205</td>\n",
       "      <td>7.6368</td>\n",
       "      <td>34.577</td>\n",
       "      <td>10.5560</td>\n",
       "      <td>9.0793</td>\n",
       "      <td>0</td>\n",
       "    </tr>\n",
       "    <tr>\n",
       "      <th>2</th>\n",
       "      <td>A4</td>\n",
       "      <td>-0.029314</td>\n",
       "      <td>0.89582</td>\n",
       "      <td>0.024423</td>\n",
       "      <td>1.04590</td>\n",
       "      <td>-74.655</td>\n",
       "      <td>0.00000</td>\n",
       "      <td>-0.034399</td>\n",
       "      <td>0.11629</td>\n",
       "      <td>1.26320</td>\n",
       "      <td>...</td>\n",
       "      <td>0.035999</td>\n",
       "      <td>-0.281400</td>\n",
       "      <td>1.02720</td>\n",
       "      <td>3.43670</td>\n",
       "      <td>4.8869</td>\n",
       "      <td>4.8991</td>\n",
       "      <td>153.720</td>\n",
       "      <td>2.3745</td>\n",
       "      <td>2.8477</td>\n",
       "      <td>0</td>\n",
       "    </tr>\n",
       "    <tr>\n",
       "      <th>3</th>\n",
       "      <td>A6</td>\n",
       "      <td>-0.201010</td>\n",
       "      <td>1.14050</td>\n",
       "      <td>-0.234190</td>\n",
       "      <td>0.79466</td>\n",
       "      <td>-41.678</td>\n",
       "      <td>-1.54010</td>\n",
       "      <td>-0.201010</td>\n",
       "      <td>-0.12318</td>\n",
       "      <td>7.22300</td>\n",
       "      <td>...</td>\n",
       "      <td>-0.005083</td>\n",
       "      <td>1.430800</td>\n",
       "      <td>1.02780</td>\n",
       "      <td>0.00000</td>\n",
       "      <td>17.0460</td>\n",
       "      <td>24.0750</td>\n",
       "      <td>57.632</td>\n",
       "      <td>6.3333</td>\n",
       "      <td>77.0810</td>\n",
       "      <td>0</td>\n",
       "    </tr>\n",
       "    <tr>\n",
       "      <th>4</th>\n",
       "      <td>A7</td>\n",
       "      <td>0.094373</td>\n",
       "      <td>0.24853</td>\n",
       "      <td>0.679850</td>\n",
       "      <td>3.73550</td>\n",
       "      <td>156.550</td>\n",
       "      <td>0.00000</td>\n",
       "      <td>0.124870</td>\n",
       "      <td>3.02360</td>\n",
       "      <td>1.31060</td>\n",
       "      <td>...</td>\n",
       "      <td>0.128590</td>\n",
       "      <td>0.125590</td>\n",
       "      <td>0.90613</td>\n",
       "      <td>0.00000</td>\n",
       "      <td>7.2914</td>\n",
       "      <td>13.5800</td>\n",
       "      <td>69.214</td>\n",
       "      <td>5.2735</td>\n",
       "      <td>18.3010</td>\n",
       "      <td>0</td>\n",
       "    </tr>\n",
       "    <tr>\n",
       "      <th>...</th>\n",
       "      <td>...</td>\n",
       "      <td>...</td>\n",
       "      <td>...</td>\n",
       "      <td>...</td>\n",
       "      <td>...</td>\n",
       "      <td>...</td>\n",
       "      <td>...</td>\n",
       "      <td>...</td>\n",
       "      <td>...</td>\n",
       "      <td>...</td>\n",
       "      <td>...</td>\n",
       "      <td>...</td>\n",
       "      <td>...</td>\n",
       "      <td>...</td>\n",
       "      <td>...</td>\n",
       "      <td>...</td>\n",
       "      <td>...</td>\n",
       "      <td>...</td>\n",
       "      <td>...</td>\n",
       "      <td>...</td>\n",
       "      <td>...</td>\n",
       "    </tr>\n",
       "    <tr>\n",
       "      <th>4132</th>\n",
       "      <td>A5904</td>\n",
       "      <td>-0.272230</td>\n",
       "      <td>0.32789</td>\n",
       "      <td>0.533430</td>\n",
       "      <td>2.62680</td>\n",
       "      <td>64.808</td>\n",
       "      <td>-1.02410</td>\n",
       "      <td>-0.272230</td>\n",
       "      <td>2.04980</td>\n",
       "      <td>1.33990</td>\n",
       "      <td>...</td>\n",
       "      <td>-0.202940</td>\n",
       "      <td>-0.405030</td>\n",
       "      <td>1.20320</td>\n",
       "      <td>0.00000</td>\n",
       "      <td>5.3476</td>\n",
       "      <td>2.7891</td>\n",
       "      <td>89.323</td>\n",
       "      <td>4.0863</td>\n",
       "      <td>9.6618</td>\n",
       "      <td>0</td>\n",
       "    </tr>\n",
       "    <tr>\n",
       "      <th>4133</th>\n",
       "      <td>A5905</td>\n",
       "      <td>0.059593</td>\n",
       "      <td>0.65904</td>\n",
       "      <td>0.049671</td>\n",
       "      <td>1.11910</td>\n",
       "      <td>-36.758</td>\n",
       "      <td>0.11068</td>\n",
       "      <td>0.059593</td>\n",
       "      <td>0.48762</td>\n",
       "      <td>1.09860</td>\n",
       "      <td>...</td>\n",
       "      <td>0.089790</td>\n",
       "      <td>0.185440</td>\n",
       "      <td>0.91021</td>\n",
       "      <td>0.75349</td>\n",
       "      <td>8.3641</td>\n",
       "      <td>4.4477</td>\n",
       "      <td>133.560</td>\n",
       "      <td>2.7328</td>\n",
       "      <td>2.1357</td>\n",
       "      <td>0</td>\n",
       "    </tr>\n",
       "    <tr>\n",
       "      <th>4134</th>\n",
       "      <td>A5907</td>\n",
       "      <td>0.007439</td>\n",
       "      <td>0.84851</td>\n",
       "      <td>0.101600</td>\n",
       "      <td>1.21590</td>\n",
       "      <td>-16.338</td>\n",
       "      <td>0.11702</td>\n",
       "      <td>0.016560</td>\n",
       "      <td>0.17854</td>\n",
       "      <td>1.87930</td>\n",
       "      <td>...</td>\n",
       "      <td>0.042288</td>\n",
       "      <td>0.049105</td>\n",
       "      <td>0.99125</td>\n",
       "      <td>2.21740</td>\n",
       "      <td>11.1000</td>\n",
       "      <td>5.7689</td>\n",
       "      <td>91.409</td>\n",
       "      <td>3.9931</td>\n",
       "      <td>4.3936</td>\n",
       "      <td>0</td>\n",
       "    </tr>\n",
       "    <tr>\n",
       "      <th>4135</th>\n",
       "      <td>A5908</td>\n",
       "      <td>0.006652</td>\n",
       "      <td>0.62545</td>\n",
       "      <td>0.146540</td>\n",
       "      <td>1.25070</td>\n",
       "      <td>-65.204</td>\n",
       "      <td>0.00000</td>\n",
       "      <td>0.016661</td>\n",
       "      <td>0.59885</td>\n",
       "      <td>1.97960</td>\n",
       "      <td>...</td>\n",
       "      <td>0.025533</td>\n",
       "      <td>0.017759</td>\n",
       "      <td>0.99159</td>\n",
       "      <td>0.10712</td>\n",
       "      <td>4.3001</td>\n",
       "      <td>8.7512</td>\n",
       "      <td>107.770</td>\n",
       "      <td>3.3869</td>\n",
       "      <td>7.3594</td>\n",
       "      <td>0</td>\n",
       "    </tr>\n",
       "    <tr>\n",
       "      <th>4136</th>\n",
       "      <td>A5910</td>\n",
       "      <td>0.007223</td>\n",
       "      <td>0.63304</td>\n",
       "      <td>-0.097917</td>\n",
       "      <td>0.84532</td>\n",
       "      <td>-93.360</td>\n",
       "      <td>-0.12980</td>\n",
       "      <td>0.007223</td>\n",
       "      <td>0.57967</td>\n",
       "      <td>1.67430</td>\n",
       "      <td>...</td>\n",
       "      <td>-0.004905</td>\n",
       "      <td>0.019682</td>\n",
       "      <td>0.99585</td>\n",
       "      <td>0.00000</td>\n",
       "      <td>5.0694</td>\n",
       "      <td>8.2175</td>\n",
       "      <td>138.010</td>\n",
       "      <td>2.6448</td>\n",
       "      <td>3.6015</td>\n",
       "      <td>0</td>\n",
       "    </tr>\n",
       "  </tbody>\n",
       "</table>\n",
       "<p>4137 rows × 66 columns</p>\n",
       "</div>"
      ],
      "text/plain": [
       "         ID        X1       X2        X3       X4       X5       X6        X7  \\\n",
       "0        A1  0.004513  0.59322  0.050671  1.08540 -233.820  0.00903  0.008017   \n",
       "1        A3  0.009384  0.21804  0.528450  3.42360   31.312 -0.21350  0.009530   \n",
       "2        A4 -0.029314  0.89582  0.024423  1.04590  -74.655  0.00000 -0.034399   \n",
       "3        A6 -0.201010  1.14050 -0.234190  0.79466  -41.678 -1.54010 -0.201010   \n",
       "4        A7  0.094373  0.24853  0.679850  3.73550  156.550  0.00000  0.124870   \n",
       "...     ...       ...      ...       ...      ...      ...      ...       ...   \n",
       "4132  A5904 -0.272230  0.32789  0.533430  2.62680   64.808 -1.02410 -0.272230   \n",
       "4133  A5905  0.059593  0.65904  0.049671  1.11910  -36.758  0.11068  0.059593   \n",
       "4134  A5907  0.007439  0.84851  0.101600  1.21590  -16.338  0.11702  0.016560   \n",
       "4135  A5908  0.006652  0.62545  0.146540  1.25070  -65.204  0.00000  0.016661   \n",
       "4136  A5910  0.007223  0.63304 -0.097917  0.84532  -93.360 -0.12980  0.007223   \n",
       "\n",
       "           X8       X9  ...       X56       X57      X58      X59      X60  \\\n",
       "0     0.62108  1.01810  ...  0.017824  0.012250  0.98218  0.00000   1.4846   \n",
       "1     3.49980  0.99865  ... -0.001349  0.012297  1.00130  0.00000   7.2205   \n",
       "2     0.11629  1.26320  ...  0.035999 -0.281400  1.02720  3.43670   4.8869   \n",
       "3    -0.12318  7.22300  ... -0.005083  1.430800  1.02780  0.00000  17.0460   \n",
       "4     3.02360  1.31060  ...  0.128590  0.125590  0.90613  0.00000   7.2914   \n",
       "...       ...      ...  ...       ...       ...      ...      ...      ...   \n",
       "4132  2.04980  1.33990  ... -0.202940 -0.405030  1.20320  0.00000   5.3476   \n",
       "4133  0.48762  1.09860  ...  0.089790  0.185440  0.91021  0.75349   8.3641   \n",
       "4134  0.17854  1.87930  ...  0.042288  0.049105  0.99125  2.21740  11.1000   \n",
       "4135  0.59885  1.97960  ...  0.025533  0.017759  0.99159  0.10712   4.3001   \n",
       "4136  0.57967  1.67430  ... -0.004905  0.019682  0.99585  0.00000   5.0694   \n",
       "\n",
       "          X61      X62      X63      X64  TARGET  \n",
       "0      7.7253  275.850   1.3232   2.2043       0  \n",
       "1      7.6368   34.577  10.5560   9.0793       0  \n",
       "2      4.8991  153.720   2.3745   2.8477       0  \n",
       "3     24.0750   57.632   6.3333  77.0810       0  \n",
       "4     13.5800   69.214   5.2735  18.3010       0  \n",
       "...       ...      ...      ...      ...     ...  \n",
       "4132   2.7891   89.323   4.0863   9.6618       0  \n",
       "4133   4.4477  133.560   2.7328   2.1357       0  \n",
       "4134   5.7689   91.409   3.9931   4.3936       0  \n",
       "4135   8.7512  107.770   3.3869   7.3594       0  \n",
       "4136   8.2175  138.010   2.6448   3.6015       0  \n",
       "\n",
       "[4137 rows x 66 columns]"
      ]
     },
     "execution_count": 3,
     "metadata": {},
     "output_type": "execute_result"
    }
   ],
   "source": [
    "df"
   ]
  },
  {
   "cell_type": "markdown",
   "metadata": {
    "_cell_guid": "29fa13df-61e8-b0c2-b3a7-ea92bffd4396"
   },
   "source": [
    "## Data preprocessing"
   ]
  },
  {
   "cell_type": "code",
   "execution_count": 4,
   "metadata": {},
   "outputs": [
    {
     "name": "stderr",
     "output_type": "stream",
     "text": [
      "Dropping of nuisance columns in DataFrame reductions (with 'numeric_only=None') is deprecated; in a future version this will raise TypeError.  Select only valid columns before calling the reduction.\n"
     ]
    }
   ],
   "source": [
    "#filling NA's with the mean of the column:\n",
    "df = df.fillna(df.mean())"
   ]
  },
  {
   "cell_type": "code",
   "execution_count": 5,
   "metadata": {
    "_cell_guid": "fe687685-cdac-0a89-4d71-af2d11d87a81"
   },
   "outputs": [
    {
     "name": "stdout",
     "output_type": "stream",
     "text": [
      "['X1', 'X2', 'X3', 'X4', 'X5', 'X6', 'X7', 'X8', 'X9', 'X10']\n"
     ]
    }
   ],
   "source": [
    "#Preparing the data to feed the algorithm\n",
    "#The dummy model only uses the first 10 features\n",
    "features_names=['X1', 'X2', 'X3', 'X4', 'X5', 'X6', 'X7', 'X8', 'X9', 'X10']\n",
    "print(features_names)\n",
    "\n",
    "#Name of the target variable\n",
    "target_name='TARGET'\n",
    "\n",
    "# Converting the dataframe into numpy arrays\n",
    "X = np.array(df[features_names])\n",
    "y = np.array(df[target_name])\n",
    "\n",
    "#Creating a train test subsets for the model\n",
    "X_train, X_test, y_train, y_test = train_test_split(X,y, test_size = 0.3)\n",
    "#Now the data is prepared to feed the algorithm"
   ]
  },
  {
   "cell_type": "markdown",
   "metadata": {
    "_cell_guid": "cc4e3014-23b7-2971-ddb0-f67b03f83558"
   },
   "source": [
    "## Model"
   ]
  },
  {
   "cell_type": "code",
   "execution_count": 6,
   "metadata": {},
   "outputs": [],
   "source": [
    "#Model definition\n",
    "the_model = RandomForestClassifier(n_estimators=20, max_depth=2 ,criterion='gini') "
   ]
  },
  {
   "cell_type": "code",
   "execution_count": 7,
   "metadata": {},
   "outputs": [
    {
     "data": {
      "text/plain": [
       "RandomForestClassifier(max_depth=2, n_estimators=20)"
      ]
     },
     "execution_count": 7,
     "metadata": {},
     "output_type": "execute_result"
    }
   ],
   "source": [
    "#Model Training\n",
    "the_model.fit(X_train, y_train)"
   ]
  },
  {
   "cell_type": "code",
   "execution_count": 8,
   "metadata": {},
   "outputs": [
    {
     "name": "stdout",
     "output_type": "stream",
     "text": [
      "[0.04270749 0.03484506 0.03484506 ... 0.03484506 0.0385568  0.03484506]\n",
      "AUC: 0.8032621446943699\n"
     ]
    }
   ],
   "source": [
    "#prediction an train Metrics\n",
    "y_train_pred = the_model.predict_proba(X_train)[:, 1]\n",
    "print(y_train_pred)\n",
    "AUC_train    = roc_auc_score(y_train, y_train_pred)\n",
    "print(\"AUC:\", AUC_train) "
   ]
  },
  {
   "cell_type": "code",
   "execution_count": 9,
   "metadata": {},
   "outputs": [
    {
     "name": "stdout",
     "output_type": "stream",
     "text": [
      "[0.04270749 0.03484506 0.03484506 ... 0.03484506 0.0385568  0.03484506]\n",
      "AUC: 0.8347921452851961\n"
     ]
    }
   ],
   "source": [
    "#prediction an train Metrics\n",
    "y_test_pred = the_model.predict_proba(X_test)[:, 1]\n",
    "print(y_train_pred)\n",
    "AUC_test    = roc_auc_score(y_test, y_test_pred)\n",
    "print(\"AUC:\", AUC_test)"
   ]
  },
  {
   "cell_type": "code",
   "execution_count": 10,
   "metadata": {
    "scrolled": true,
    "tags": []
   },
   "outputs": [
    {
     "data": {
      "image/png": "[encoded data removed]",
      "text/plain": [
       "<Figure size 640x480 with 1 Axes>"
      ]
     },
     "metadata": {},
     "output_type": "display_data"
    }
   ],
   "source": [
    "# Generate ROC curve values: fpr, tpr, thresholds\n",
    "fpr, tpr, thresholds = roc_curve(y_test, y_test_pred)\n",
    "\n",
    "# Plot ROC curve\n",
    "plt.plot([0, 1], [0, 1], 'k--')\n",
    "plt.plot(fpr, tpr)\n",
    "plt.xlabel('False Positive Rate')\n",
    "plt.ylabel('True Positive Rate')\n",
    "plt.title('ROC Curve')\n",
    "plt.show()"
   ]
  },
  {
   "cell_type": "code",
   "execution_count": null,
   "metadata": {},
   "outputs": [],
   "source": []
  },
  {
   "cell_type": "code",
   "execution_count": null,
   "metadata": {},
   "outputs": [],
   "source": []
  }
 ],
 "metadata": {
  "_change_revision": 6,
  "_is_fork": false,
  "kernelspec": {
   "display_name": "Python 3 (ipykernel)",
   "language": "python",
   "name": "python3"
  },
  "language_info": {
   "codemirror_mode": {
    "name": "ipython",
    "version": 3
   },
   "file_extension": ".py",
   "mimetype": "text/x-python",
   "name": "python",
   "nbconvert_exporter": "python",
   "pygments_lexer": "ipython3",
   "version": "3.7.6"
  }
 },
 "nbformat": 4,
 "nbformat_minor": 4
}
